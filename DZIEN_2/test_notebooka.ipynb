{
 "cells":[
  {
   "cell_type":"code",
   "source":[
    "print(\"to jest pierwszy notebook\")"
   ],
   "execution_count":1,
   "outputs":[
    {
     "name":"stdout",
     "text":[
      "to jest pierwszy notebook\n"
     ],
     "output_type":"stream"
    }
   ],
   "metadata":{
    "datalore":{
     "node_id":"4L5vFLWdYUG6cn8ql5YMD6",
     "type":"CODE",
     "hide_input_from_viewers":true,
     "hide_output_from_viewers":true
    }
   }
  },
  {
   "cell_type":"code",
   "source":[
    "a = 88\n",
    "b = 5.128"
   ],
   "execution_count":6,
   "outputs":[],
   "metadata":{
    "datalore":{
     "node_id":"elngowv3RCKO9dTlzklv8m",
     "type":"CODE",
     "hide_input_from_viewers":true,
     "hide_output_from_viewers":true
    }
   }
  },
  {
   "cell_type":"code",
   "source":[
    "a*b-2"
   ],
   "execution_count":7,
   "outputs":[
    {
     "data":{
      "text\/plain":[
       "449.264"
      ]
     },
     "metadata":{},
     "output_type":"display_data"
    }
   ],
   "metadata":{
    "datalore":{
     "node_id":"duZRmmd1t1WHPjAiuqvLzh",
     "type":"CODE",
     "hide_input_from_viewers":true,
     "hide_output_from_viewers":true
    }
   }
  },
  {
   "cell_type":"markdown",
   "source":[
    "# <span style=\"color:navy; font-size:16pt;\">To jest pierwszy <span style=\"color:red;\">notebook<\/span> pokazujący zasady pracy.<br>Będziemy analizować dane.<\/span>"
   ],
   "attachments":{},
   "metadata":{
    "datalore":{
     "node_id":"mX5m3uQmLQXaQacSVSQB6v",
     "type":"MD",
     "hide_input_from_viewers":true,
     "hide_output_from_viewers":true
    }
   }
  },
  {
   "cell_type":"markdown",
   "source":[
    "<div style=\"background-color:#FFF59D; padding:14px; border-radius:8px;\">\n",
    "  <p style=\"font-family: 'Segoe UI', Roboto, 'Noto Sans', 'Open Sans', 'Helvetica Neue', Arial, sans-serif; font-size:14pt; color:#7A1C17; margin:10;\">\n",
    "    Python jest liderem w programowaniu struktur danych i algorytmów AI\n",
    "  <\/p>\n",
    "<\/div>"
   ],
   "attachments":{},
   "metadata":{
    "datalore":{
     "node_id":"zZirMkupQ8nYzdRxLmyu0E",
     "type":"MD",
     "hide_input_from_viewers":true,
     "hide_output_from_viewers":true
    }
   }
  },
  {
   "cell_type":"code",
   "source":[
    "import numpy as np\n",
    "from scipy.stats import ttest_ind"
   ],
   "execution_count":8,
   "outputs":[],
   "metadata":{
    "datalore":{
     "node_id":"YAkEE5Smtlm0BO8u414LEU",
     "type":"CODE",
     "hide_input_from_viewers":true,
     "hide_output_from_viewers":true
    }
   }
  },
  {
   "cell_type":"code",
   "source":[
    "#dane do analizy\n",
    "grupa_bez_kawy = np.array([0.47,0.5,0.52,0.48,0.51,0.49,0.53,0.54])\n",
    "grupa_z_kawa = np.array([0.41,0.4,0.42,0.38,0.41,0.39,0.43,0.39])"
   ],
   "execution_count":17,
   "outputs":[],
   "metadata":{
    "datalore":{
     "node_id":"cgZW8vjO32rwQVSUhSLBgI",
     "type":"CODE",
     "hide_input_from_viewers":true,
     "hide_output_from_viewers":true
    }
   }
  },
  {
   "cell_type":"code",
   "source":[
    "#test statystyczny t-studenta\n",
    "t_stat,p_value = ttest_ind(grupa_bez_kawy,grupa_z_kawa)\n",
    "print(f\"statystyka: {round(t_stat,3)}\")\n",
    "print(f\"p-value: {round(p_value,4)}\")"
   ],
   "execution_count":18,
   "outputs":[
    {
     "name":"stdout",
     "text":[
      "statystyka: 9.632\n",
      "p-value: 0.0\n"
     ],
     "output_type":"stream"
    }
   ],
   "metadata":{
    "datalore":{
     "node_id":"UoxJcg4aD9Wm8NplNv268A",
     "type":"CODE",
     "hide_input_from_viewers":true,
     "hide_output_from_viewers":true
    }
   }
  },
  {
   "cell_type":"code",
   "source":[
    "#interpretacja\n",
    "if p_value < 0.05:\n",
    "    print(\"różnica jest statystycznie istotna -> kawa skraca czas reakcji!\")\n",
    "else:\n",
    "    print(\"brak istotnej różnicy!\")"
   ],
   "execution_count":19,
   "outputs":[
    {
     "name":"stdout",
     "text":[
      "różnica jest statystycznie istotna -> kawa skraca czas reakcji!\n"
     ],
     "output_type":"stream"
    }
   ],
   "metadata":{
    "datalore":{
     "node_id":"BB4LoDgNat7I0DsznRE26L",
     "type":"CODE",
     "hide_input_from_viewers":true,
     "hide_output_from_viewers":true
    }
   }
  }
 ],
 "metadata":{
  "kernelspec":{
   "display_name":"Python",
   "language":"python",
   "name":"python"
  },
  "datalore":{
   "computation_mode":"JUPYTER",
   "package_manager":"pip",
   "base_environment":"default_3_11",
   "packages":[],
   "report_row_ids":[],
   "report_tabs":[],
   "version":4
  }
 },
 "nbformat":4,
 "nbformat_minor":4
}